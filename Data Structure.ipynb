{
 "cells": [
  {
   "cell_type": "markdown",
   "id": "5dab7469-a295-4f46-a4d1-a88560ad42fe",
   "metadata": {},
   "source": [
    "## What is Data Structure?"
   ]
  },
  {
   "cell_type": "markdown",
   "id": "f789815b-fb15-4a98-a89b-78646d4bfc73",
   "metadata": {},
   "source": [
    "Data that can be arranged in many ways, logically or mathematically arranged is called Data Structure.\n",
    "\n",
    "**Examples**: Array, LinkedList, Stack, Queue, Tree Graph and many more."
   ]
  },
  {
   "cell_type": "markdown",
   "id": "20ca7efc-55b8-4728-8323-87ec9e72a203",
   "metadata": {},
   "source": [
    "## What is an Algorithms?"
   ]
  },
  {
   "cell_type": "markdown",
   "id": "edd2d0a6-99e5-449a-9c26-f010e08401ca",
   "metadata": {},
   "source": [
    "Sequence of steps performed on the data using efficient data structures to solve a given problem.\n",
    "\n",
    "**Examples**: Sorting an array."
   ]
  },
  {
   "cell_type": "markdown",
   "id": "2b5a4a0d-91cd-4d20-b0d7-49cc346325c9",
   "metadata": {},
   "source": [
    "## Classification of Data Structure"
   ]
  },
  {
   "cell_type": "markdown",
   "id": "23964286-3a5f-4850-8fe9-c77a83173094",
   "metadata": {},
   "source": [
    "<img src = \"Downloads/Untitled Diagram.drawio (1).png\">"
   ]
  },
  {
   "cell_type": "markdown",
   "id": "0d4c1239-77d5-4a7c-b195-95b9ba1f839b",
   "metadata": {},
   "source": [
    "## What is Data Structre"
   ]
  },
  {
   "cell_type": "code",
   "execution_count": null,
   "id": "bf61257b-8fd6-4572-ab49-04727702651c",
   "metadata": {},
   "outputs": [],
   "source": []
  },
  {
   "cell_type": "markdown",
   "id": "76fbb9f7-ee0c-48a3-bba7-e907f93c2e47",
   "metadata": {},
   "source": [
    "## What is Data Structre"
   ]
  },
  {
   "cell_type": "code",
   "execution_count": null,
   "id": "f5b2c409-1e3f-4378-bb6f-d3920d5f7d0d",
   "metadata": {},
   "outputs": [],
   "source": []
  },
  {
   "cell_type": "markdown",
   "id": "9803afb5-1ed9-4887-b3a2-07f3f612304c",
   "metadata": {},
   "source": [
    "## What is Data Structre"
   ]
  },
  {
   "cell_type": "code",
   "execution_count": null,
   "id": "8484ee7a-3fa5-4f2b-abc8-6680857aff25",
   "metadata": {},
   "outputs": [],
   "source": []
  }
 ],
 "metadata": {
  "kernelspec": {
   "display_name": "Python 3 (ipykernel)",
   "language": "python",
   "name": "python3"
  },
  "language_info": {
   "codemirror_mode": {
    "name": "ipython",
    "version": 3
   },
   "file_extension": ".py",
   "mimetype": "text/x-python",
   "name": "python",
   "nbconvert_exporter": "python",
   "pygments_lexer": "ipython3",
   "version": "3.9.13"
  }
 },
 "nbformat": 4,
 "nbformat_minor": 5
}
