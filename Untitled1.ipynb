{
 "cells": [
  {
   "cell_type": "markdown",
   "id": "0a9a9dbd-df9d-4107-a8ce-c1a747079c33",
   "metadata": {},
   "source": [
    "# Introduction to Binary Tree – Data Structure and Algorithm Tutorials"
   ]
  },
  {
   "cell_type": "markdown",
   "id": "07dcda17-db9c-40a4-82ad-a8d3e7cdf19c",
   "metadata": {},
   "source": [
    "## A. What is a Tree?"
   ]
  },
  {
   "cell_type": "markdown",
   "id": "0acc67b6-b052-47ee-815b-3ce074ca5adf",
   "metadata": {},
   "source": [
    "A tree is a popular data structure that is non-linear in nature. Unlike other data structures like an array, stack, queue, and linked list which are linear in nature, a tree represents a hierarchical structure. The ordering information of a tree is not important. A tree contains nodes and 2 pointers. These two pointers are the left child and the right child of the parent node. Let us understand the terms of tree in detail.\n",
    "+ <b>Root</b>: The root of a tree is the topmost node of the tree that has no parent node. There is only one root node in every tree.\n",
    "+ <b>Parent Node</b>:  The node which is a predecessor of a node is called the parent node of that node.\n",
    "+ <b>Child Node</b>: The node which is the immediate successor of a node is called the child node of that node.\n",
    "+ <b>Sibling</b>: Children of the same parent node are called siblings.\n",
    "+ <b>Edge</b>: Edge acts as a link between the parent node and the child node.\n",
    "+ <b>Leaf</b>: A node that has no child is known as the leaf node. It is the last node of the tree. There can be multiple leaf nodes in a tree.\n",
    "+ <b>Subtree</b>: The subtree of a node is the tree considering that particular node as the root node.\n",
    "+ <b>Depth</b>: The depth of the node is the distance from the root node to that particular node.\n",
    "+ <b>Height</b>: The height of the node is the distance from that node to the deepest node of that subtree.\n",
    "+ <b>Height of tree</b>: The Height of the tree is the maximum height of any node. This is the same as the height of the root node.\n",
    "+ <b>Level</b>: A level is the number of parent nodes corresponding to a given node of the tree.\n",
    "+ <b>Degree of node</b>:  The degree of a node is the number of its children.\n",
    "+ <b>NULL</b>: The number of NULL nodes in a binary tree is (N+1), where N is the number of nodes in a binary tree."
   ]
  },
  {
   "cell_type": "markdown",
   "id": "66e400d3-1f4a-46e0-9371-9b5fbf7677f1",
   "metadata": {},
   "source": [
    "<img src = \"https://media.geeksforgeeks.org/wp-content/uploads/20221129094006/Treedatastructure.png\">"
   ]
  },
  {
   "cell_type": "markdown",
   "id": "0e9b859a-3760-45c6-b5d7-08bdb7718f85",
   "metadata": {},
   "source": [
    "## B. Why to use Tree Data Structure? "
   ]
  },
  {
   "cell_type": "markdown",
   "id": "31506bbc-cd53-4ea1-a35b-0fed0744f669",
   "metadata": {},
   "source": [
    "1. One reason to use trees might be because you want to store information that naturally forms a hierarchy. For example, the file system on a computer: "
   ]
  },
  {
   "cell_type": "markdown",
   "id": "f0ac4dda-8564-4f22-a4a3-d9f0b44a6da9",
   "metadata": {},
   "source": [
    "<img src = \"https://media.geeksforgeeks.org/wp-content/uploads/20221125140411/filesystem.png\">"
   ]
  },
  {
   "cell_type": "markdown",
   "id": "8a4db7dc-d4a8-42b9-b231-62a3149a32e6",
   "metadata": {},
   "source": [
    "2. Trees (with some ordering e.g., BST) provide moderate access/search (quicker than Linked List and slower than arrays). \n",
    "3. Trees provide moderate insertion/deletion (quicker than Arrays and slower than Unordered Linked Lists). \n",
    "4. Like Linked Lists and unlike Arrays, Trees don’t have an upper limit on the number of nodes as nodes are linked using pointers."
   ]
  },
  {
   "cell_type": "markdown",
   "id": "f05da47e-fefd-4a77-a653-d6e7c91b458e",
   "metadata": {
    "tags": []
   },
   "source": [
    "## C. The main applications of Tree Data Structure: \n",
    "1. Manipulate hierarchical data. \n",
    "2. Make information easy to search (see tree traversal). \n",
    "3. Manipulate sorted lists of data. \n",
    "4. As a workflow for compositing digital images for visual effects. \n",
    "5. Router algorithms \n",
    "6. Form of multi-stage decision-making (see business chess). "
   ]
  },
  {
   "cell_type": "markdown",
   "id": "3f937e7a-1a4d-4ae8-b316-b661527e764a",
   "metadata": {},
   "source": [
    "## D. What is a Binary Tree?\n",
    "\n",
    "A binary tree is a tree data structure composed of nodes, each of which has at most, two children, referred to as left and right nodes and the tree begins from root node."
   ]
  },
  {
   "cell_type": "markdown",
   "id": "4f83de96-f08b-40fa-b8ca-c5a7b3cbe49d",
   "metadata": {},
   "source": [
    "Each node in the tree contains the following:\n",
    "\n",
    "+ Data\n",
    "+ Pointer to the left child\n",
    "+ Pointer to the right child"
   ]
  },
  {
   "cell_type": "markdown",
   "id": "850a6d56-f679-42d2-9695-7ba2eebb0c79",
   "metadata": {
    "tags": []
   },
   "source": [
    "<img src = \"https://media.geeksforgeeks.org/wp-content/uploads/20221124174432/binary.png\">"
   ]
  },
  {
   "cell_type": "markdown",
   "id": "c7c06228-17da-45de-a245-b4321ccfe6ed",
   "metadata": {},
   "source": [
    "## E. Basic Operations On Binary Tree:\n",
    "\n",
    "+ Inserting an element.\n",
    "+ Removing an element.\n",
    "+ Searching for an element.\n",
    "+ Deletion for an element.\n",
    "+ Traversing an element. There are four (mainly three) types of traversals in a binary tree which will be discussed ahead."
   ]
  },
  {
   "cell_type": "markdown",
   "id": "663ead8c-81be-461d-b794-2b90bd5a9e8f",
   "metadata": {
    "tags": []
   },
   "source": [
    "## F. Auxiliary Operations On Binary Tree:\n",
    "\n",
    "+ Finding the height of the tree.\n",
    "+ Find the level of the tree.\n",
    "+ Finding the size of the entire tree."
   ]
  },
  {
   "cell_type": "markdown",
   "id": "604b3ff4-85d7-4753-ba26-10dce66cb198",
   "metadata": {},
   "source": [
    "## G. Applications of Binary Tree:\n",
    "\n",
    "+ In compilers, Expression Trees are used which is an application of binary trees.\n",
    "+ Huffman coding trees are used in data compression algorithms.\n",
    "+ Priority Queue is another application of binary tree that is used for searching maximum or minimum in O(1) time complexity.\n",
    "+ Represent hierarchical data.\n",
    "+ Used in editing software like Microsoft Excel and spreadsheets.\n",
    "+ Useful for indexing segmented at the database is useful in storing cache in the system, syntax trees are used for most famous compilers for programming like GCC, and AOCL to perform arithmetic operations.\n",
    "+ For implementing priority queues.\n",
    "+ Used to find elements in less time (binary search tree)\n",
    "+ Used to enable fast memory allocation in computers. \n",
    "+ To perform encoding and decoding operations."
   ]
  },
  {
   "cell_type": "markdown",
   "id": "385b4570-29ee-4f80-8042-f41202ff38dd",
   "metadata": {},
   "source": [
    "## H. Types of Binary Tree"
   ]
  },
  {
   "cell_type": "markdown",
   "id": "6096f175-c331-4b9b-94e4-7a59db69bd71",
   "metadata": {},
   "source": [
    "### 1. Full Binary Tree\n",
    "\n",
    "A full Binary tree is a special type of binary tree in which every parent node/internal node has either two or no children."
   ]
  },
  {
   "cell_type": "markdown",
   "id": "7d805199-dbf5-4c3e-8a74-b8395b644ff7",
   "metadata": {},
   "source": [
    "<img src = \"https://cdn.programiz.com/sites/tutorial2program/files/full-binary-tree_0.png\">"
   ]
  },
  {
   "cell_type": "markdown",
   "id": "450c0365-6a96-4c5e-a612-720a354b718f",
   "metadata": {},
   "source": [
    "#### Full Binary Tree Theorems"
   ]
  },
  {
   "cell_type": "markdown",
   "id": "a52cc9bd-3afa-40d7-888a-f07e6eea17b8",
   "metadata": {},
   "source": [
    "<b>i</b>: the number of internal nodes\n",
    "\n",
    "+ `i = (n – 1) / 2`.\n",
    "+ `i = l – 1`.\n",
    "\n",
    "<b>n</b>: be the total number of nodes\n",
    "+ `n = i + 1`.\n",
    "+ `n = 2l – 1`.\n",
    "\n",
    "<b>l</b>: number of leaves\n",
    "+ `l = 2λ - 1`.\n",
    "+ `l = i + 1`.\n",
    "+ `l = (n + 1) / 2`.\n",
    "\n",
    "<b>λ</b>: number of levels"
   ]
  },
  {
   "cell_type": "code",
   "execution_count": 41,
   "id": "a26b216f-0077-4606-bf66-cabccc59e812",
   "metadata": {},
   "outputs": [
    {
     "name": "stdout",
     "output_type": "stream",
     "text": [
      "Binary tree : \n",
      "    ______1\n",
      "   /       \\\n",
      "  2__       3\n",
      " /   \\\n",
      "4     5\n",
      "     / \\\n",
      "    6   7\n",
      "\n",
      "The tree is a full binary tree\n",
      "------------------------------\n",
      "Binary tree : \n",
      "    ______1\n",
      "   /       \\\n",
      "  2__       3\n",
      " /   \\\n",
      "4     5\n",
      "     / \\\n",
      "    6   7\n",
      "\n",
      "The tree is a full binary tree\n"
     ]
    }
   ],
   "source": [
    "# Draw Binary Tree\n",
    "from binarytree import Node\n",
    "\n",
    "# Checking if a binary tree is a full binary tree in Python\n",
    "\n",
    "# Creating a node\n",
    "class build_Node:\n",
    "    def __init__(self, item):\n",
    "        self.item = item\n",
    "        self.leftChild = None\n",
    "        self.rightChild = None\n",
    "\n",
    "# Checking full binary tree\n",
    "def isFullTree(root):\n",
    "    \n",
    "    # Tree empty case\n",
    "    if root is None:\n",
    "        return True\n",
    "\n",
    "    # Checking whether child is present\n",
    "    if root.leftChild is None and root.rightChild is None:\n",
    "        return True\n",
    "    \n",
    "    if root.leftChild is not None and root.rightChild is not None:\n",
    "        return (isFullTree(root.leftChild) and isFullTree(root.rightChild))\n",
    "    \n",
    "    return False\n",
    "\n",
    "# Print True/False\n",
    "def print_TF(root):\n",
    "    if isFullTree(root):\n",
    "        print(\"The tree is a full binary tree\")\n",
    "    else:\n",
    "        print(\"The tree is not a full binary tree\")\n",
    "\n",
    "# Draw Binary Tree\n",
    "root                  = Node(1)\n",
    "root.right            = Node(3)\n",
    "root.left             = Node(2)\n",
    "root.left.left        = Node(4)\n",
    "root.left.right       = Node(5)\n",
    "root.left.right.left  = Node(6)\n",
    "root.left.right.right = Node(7)\n",
    "\n",
    "print('Binary tree :', root)\n",
    "\n",
    "root                                 = build_Node(1)\n",
    "root.rightChild                      = build_Node(3)\n",
    "root.leftChild                       = build_Node(2)\n",
    "root.leftChild.leftChild             = build_Node(4)\n",
    "root.leftChild.rightChild            = build_Node(5)\n",
    "root.leftChild.rightChild.leftChild  = build_Node(6)\n",
    "root.leftChild.rightChild.rightChild = build_Node(7)\n",
    "\n",
    "print_TF(root)\n",
    "\n",
    "print(\"------------------------------\")\n",
    "\n",
    "# Draw Binary Tree\n",
    "root                  = Node(1)\n",
    "root.right            = Node(3)\n",
    "root.left             = Node(2)\n",
    "root.left.left        = Node(4)\n",
    "root.left.right       = Node(5)\n",
    "root.left.right.left  = Node(6)\n",
    "root.left.right.right = Node(7)\n",
    "\n",
    "print('Binary tree :', root)\n",
    "\n",
    "root                                 = build_Node(1)\n",
    "root.rightChild                      = build_Node(3)\n",
    "root.leftChild                       = build_Node(2)\n",
    "root.leftChild.leftChild             = build_Node(4)\n",
    "root.leftChild.rightChild            = build_Node(5)\n",
    "root.leftChild.rightChild.leftChild  = build_Node(6)\n",
    "root.leftChild.rightChild.rightChild = build_Node(7)\n",
    "\n",
    "print_TF(root)"
   ]
  },
  {
   "cell_type": "markdown",
   "id": "4e9e55d3-19ac-4586-8830-604a4aa17d48",
   "metadata": {},
   "source": [
    "### 2. Perfect Binary Tree\n",
    "\n",
    "A perfect binary tree is a type of binary tree in which every internal node has exactly two child nodes and all the leaf nodes are at the same level."
   ]
  },
  {
   "cell_type": "markdown",
   "id": "4d030fb9-f631-4753-bba3-45294fbc1655",
   "metadata": {},
   "source": [
    "<img src = \"https://cdn.programiz.com/sites/tutorial2program/files/perfect-binary-tree_0.png\">"
   ]
  },
  {
   "cell_type": "markdown",
   "id": "b0511961-c53d-497b-be49-710b39c56e10",
   "metadata": {},
   "source": [
    "All the internal nodes have a degree of 2.\n",
    "\n",
    "Recursively, a perfect binary tree can be defined as:\n",
    "\n",
    "1. If a single node has no children, it is a perfect binary tree of height h = 0.\n",
    "2. If a node has h > 0, it is a perfect binary tree if both of its subtrees are of height h - 1 and are non-overlapping."
   ]
  },
  {
   "cell_type": "markdown",
   "id": "cedc45a1-3d06-45f5-ab8e-1f87dfe6f627",
   "metadata": {},
   "source": [
    "<img src = \"https://cdn.programiz.com/sites/tutorial2program/files/perfect-binary-tree-rec.png\">"
   ]
  },
  {
   "cell_type": "code",
   "execution_count": 47,
   "id": "a507bde8-e6c7-4550-9a0c-9a711e6436d5",
   "metadata": {},
   "outputs": [
    {
     "name": "stdout",
     "output_type": "stream",
     "text": [
      "Binary tree : \n",
      "    __1__\n",
      "   /     \\\n",
      "  2       3\n",
      " / \\     / \\\n",
      "4   5   6   7\n",
      "\n",
      "The tree is a perfect binary tree\n",
      "---------------------\n",
      "Binary tree : \n",
      "    __1__\n",
      "   /     \\\n",
      "  2       3\n",
      " / \\     /\n",
      "4   5   6\n",
      "\n",
      "The tree is not a perfect binary tree\n"
     ]
    }
   ],
   "source": [
    "# Draw Binary Tree\n",
    "from binarytree import Node\n",
    "\n",
    "# Checking if a binary tree is a perfect binary tree in Python\n",
    "class newNode:\n",
    "    def __init__(self, k):\n",
    "        self.key = k\n",
    "        self.right = None\n",
    "        self.left = None\n",
    "\n",
    "# Calculate the depth\n",
    "def calculateDepth(node):\n",
    "    d = 0\n",
    "    while (node is not None):\n",
    "        d += 1\n",
    "        node = node.left\n",
    "    return d\n",
    "\n",
    "# Check if the tree is perfect binary tree\n",
    "def is_perfect(root, d, level = 0):\n",
    "\n",
    "    # Check if the tree is empty\n",
    "    if (root is None):\n",
    "        return True\n",
    "\n",
    "    # Check the presence of trees\n",
    "    if (root.left is None and root.right is None):\n",
    "        return (d == level + 1)\n",
    "\n",
    "    if (root.left is None or root.right is None):\n",
    "        return False\n",
    "\n",
    "    return (is_perfect(root.left, d, level + 1) and\n",
    "            is_perfect(root.right, d, level + 1))\n",
    "\n",
    "# Print True/False\n",
    "def print_TF(root):\n",
    "    if is_perfect(root, calculateDepth(root)):\n",
    "        print(\"The tree is a perfect binary tree\")\n",
    "    else:\n",
    "        print(\"The tree is not a perfect binary tree\")\n",
    "        \n",
    "# Draw Binary Tree\n",
    "root             = None\n",
    "root             = Node(1)\n",
    "root.left        = Node(2)\n",
    "root.right       = Node(3)\n",
    "root.left.left   = Node(4)\n",
    "root.left.right  = Node(5)\n",
    "root.right.left  = Node(6)\n",
    "root.right.right = Node(7)\n",
    "\n",
    "print('Binary tree :', root)\n",
    "\n",
    "root             = None\n",
    "root             = newNode(1)\n",
    "root.left        = newNode(2)\n",
    "root.right       = newNode(3)\n",
    "root.left.left   = newNode(4)\n",
    "root.left.right  = newNode(5)\n",
    "root.right.left  = newNode(6)\n",
    "root.right.right = newNode(7)\n",
    "\n",
    "print_TF(root)\n",
    "\n",
    "print(\"---------------------\")\n",
    "\n",
    "# Draw Binary Tree\n",
    "root             = None\n",
    "root             = Node(1)\n",
    "root.left        = Node(2)\n",
    "root.right       = Node(3)\n",
    "root.left.left   = Node(4)\n",
    "root.left.right  = Node(5)\n",
    "root.right.left  = Node(6)\n",
    "\n",
    "print('Binary tree :', root)\n",
    "\n",
    "root             = None\n",
    "root             = newNode(1)\n",
    "root.left        = newNode(2)\n",
    "root.right       = newNode(3)\n",
    "root.left.left   = newNode(4)\n",
    "root.left.right  = newNode(5)\n",
    "root.right.left  = newNode(6)\n",
    "\n",
    "print_TF(root)"
   ]
  },
  {
   "cell_type": "markdown",
   "id": "48ad3397-95b2-47fa-85cc-ea8c30a69a16",
   "metadata": {},
   "source": [
    "### 3. Complete Binary Tree\n",
    "\n",
    "A complete binary tree is a binary tree in which all the levels are completely filled except possibly the lowest one, which is filled from the left.\n",
    "\n",
    "A complete binary tree is just like a full binary tree, but with two major differences:\n",
    "\n",
    "1. Every level must be completely filled\n",
    "2. All the leaf elements must lean towards the left.\n",
    "3. The last leaf element might not have a right sibling i.e. a complete binary tree doesn't have to be a full binary tree."
   ]
  },
  {
   "cell_type": "markdown",
   "id": "e66866ed-233a-4d3e-b1b7-10d025a90f00",
   "metadata": {},
   "source": [
    "<img src = \"https://cdn.programiz.com/sites/tutorial2program/files/complete-binary-tree_0.png\">"
   ]
  },
  {
   "cell_type": "markdown",
   "id": "d90ec6f3-912e-4f23-bdb8-6f2bf6f57f68",
   "metadata": {},
   "source": [
    "#### Full Binary Tree vs Complete Binary Tree"
   ]
  },
  {
   "cell_type": "markdown",
   "id": "62c52b1c-5066-405d-b82d-9d32083db138",
   "metadata": {},
   "source": [
    "<img src = \"https://cdn.programiz.com/sites/tutorial2program/files/comparison-1_0.png\">"
   ]
  },
  {
   "cell_type": "markdown",
   "id": "8f9f2f68-58a7-404e-afe1-a97c55c00994",
   "metadata": {},
   "source": [
    "<img src = \"https://cdn.programiz.com/sites/tutorial2program/files/comparison-2_0.png\">"
   ]
  },
  {
   "cell_type": "markdown",
   "id": "b19c9932-8a68-4067-bd9f-9b8b61a94b3d",
   "metadata": {},
   "source": [
    "<img src = \"https://cdn.programiz.com/sites/tutorial2program/files/comparison-3_0.png\">"
   ]
  },
  {
   "cell_type": "markdown",
   "id": "550550cf-837c-4ad0-98d6-132a392a8461",
   "metadata": {},
   "source": [
    "<img src = \"https://cdn.programiz.com/sites/tutorial2program/files/comparison-4.png\">"
   ]
  },
  {
   "cell_type": "markdown",
   "id": "66331ae1-2427-4099-b530-00c3708e8b5a",
   "metadata": {},
   "source": [
    "#### How a Complete Binary Tree is Created?"
   ]
  },
  {
   "cell_type": "markdown",
   "id": "d5135e37-d0d1-47e9-b8f8-76bafc041ab7",
   "metadata": {},
   "source": [
    "1. Select the first element of the list to be the root node. (no. of elements on level-I: 1)\n",
    "\n",
    "<img src = \"https://cdn.programiz.com/sites/tutorial2program/files/complete-binary-tree-creation-1.png\">"
   ]
  },
  {
   "cell_type": "markdown",
   "id": "88bd9490-7923-4db8-b9be-9c93318853b3",
   "metadata": {},
   "source": [
    "2. Put the second element as a left child of the root node and the third element as the right child. (no. of elements on level-II: 2) \n",
    "\n",
    "<img src = \"https://cdn.programiz.com/sites/tutorial2program/files/complete-binary-tree-creation-2.png\">"
   ]
  },
  {
   "cell_type": "markdown",
   "id": "066e8747-6379-4811-a1c9-4bd1a0f186f1",
   "metadata": {},
   "source": [
    "3. Put the next two elements as children of the left node of the second level. Again, put the next two elements as children of the right node of the second level (no. of elements on level-III: 4) elements).\n",
    "4. Keep repeating until you reach the last element.\n",
    "\n",
    "<img src = \"https://cdn.programiz.com/sites/tutorial2program/files/complete-binary-tree-creation-3.png\">"
   ]
  },
  {
   "cell_type": "code",
   "execution_count": 17,
   "id": "a62f0dfd-fbbb-47ba-86fb-ed926f6bc8b0",
   "metadata": {},
   "outputs": [
    {
     "name": "stdout",
     "output_type": "stream",
     "text": [
      "Binary tree : \n",
      "    __1__\n",
      "   /     \\\n",
      "  2       3\n",
      " / \\     /\n",
      "4   5   6\n",
      "\n",
      "The tree is a complete binary tree\n"
     ]
    }
   ],
   "source": [
    "from binarytree import Node\n",
    "\n",
    "root = Node(1)\n",
    "root.left = Node(2)\n",
    "root.right = Node(3)\n",
    "root.left.left = Node(4)\n",
    "root.left.right = Node(5)\n",
    "root.right.left = Node(6)\n",
    "\n",
    "print('Binary tree :', root)\n",
    "\n",
    "# Checking if a binary tree is a complete binary tree in C\n",
    "class Node:\n",
    "    def __init__(self, item):\n",
    "        self.item = item\n",
    "        self.left = None\n",
    "        self.right = None\n",
    "\n",
    "# Count the number of nodes\n",
    "def count_nodes(root):\n",
    "    if root is None:\n",
    "        return 0\n",
    "    return (1 + count_nodes(root.left) + count_nodes(root.right))\n",
    "\n",
    "# Check if the tree is complete binary tree\n",
    "def is_complete(root, index, numberNodes):\n",
    "\n",
    "    # Check if the tree is empty\n",
    "    if root is None:\n",
    "        return True\n",
    "\n",
    "    if index >= numberNodes:\n",
    "        return False\n",
    "\n",
    "    return (is_complete(root.left, 2 * index + 1, numberNodes)\n",
    "            and is_complete(root.right, 2 * index + 2, numberNodes))\n",
    "\n",
    "root = Node(1)\n",
    "root.left = Node(2)\n",
    "root.right = Node(3)\n",
    "root.left.left = Node(4)\n",
    "root.left.right = Node(5)\n",
    "root.right.left = Node(6)\n",
    "\n",
    "node_count = count_nodes(root)\n",
    "index = 0\n",
    "\n",
    "if is_complete(root, index, node_count):\n",
    "    print(\"The tree is a complete binary tree\")\n",
    "else:\n",
    "    print(\"The tree is not a complete binary tree\")"
   ]
  },
  {
   "cell_type": "markdown",
   "id": "81f7c245-b3c8-4608-aa44-7ad0ca0cada1",
   "metadata": {},
   "source": [
    "### 4. Degenerate or Pathological Tree\n",
    "\n",
    "A degenerate or pathological tree is the tree having a single child either left or right."
   ]
  },
  {
   "cell_type": "markdown",
   "id": "80e957fb-9db3-4204-95fa-5aa8d5b91f83",
   "metadata": {},
   "source": [
    "<img src =\"https://cdn.programiz.com/sites/tutorial2program/files/degenerate-binary-tree_0.png\">"
   ]
  },
  {
   "cell_type": "markdown",
   "id": "5df26fd8-2067-42c8-9eec-a6711005520c",
   "metadata": {},
   "source": [
    "### 5. Skewed Binary Tree\n",
    "\n",
    "A skewed binary tree is a pathological/degenerate tree in which the tree is either dominated by the left nodes or the right nodes. Thus, there are two types of skewed binary tree: <b>left-skewed binary tree</b> and <b>right-skewed binary tree</b>."
   ]
  },
  {
   "cell_type": "markdown",
   "id": "646612c6-ade3-4ff3-adf0-88bf92960e3b",
   "metadata": {},
   "source": [
    "<img src =\"https://cdn.programiz.com/sites/tutorial2program/files/skewed-binary-tree_0.png\">"
   ]
  },
  {
   "cell_type": "markdown",
   "id": "2bddd9b5-74b6-4745-8d55-39fae6fa6013",
   "metadata": {},
   "source": [
    "### 6. Balanced Binary Tree\n",
    "\n",
    "It is a type of binary tree in which the difference between the height of the left and the right subtree for each node is either 0 or 1.\n",
    "\n",
    "A balanced binary tree, also referred to as a height-balanced binary tree, is defined as a binary tree in which the height of the left and right subtree of any node differ by not more than 1.\n",
    "\n",
    "Following are the conditions for a height-balanced binary tree:\n",
    "1. Difference between the left and the right subtree for any node is not more than one\n",
    "2. The left subtree is balanced\n",
    "3. The right subtree is balanced"
   ]
  },
  {
   "cell_type": "markdown",
   "id": "91d05d34-9071-4b8f-a1b6-a18404c2b490",
   "metadata": {},
   "source": [
    "<img src =\"https://cdn.programiz.com/sites/tutorial2program/files/height-balanced_1.png\">"
   ]
  },
  {
   "cell_type": "markdown",
   "id": "e1c0152b-f75c-4b42-b351-9e9b638e5a07",
   "metadata": {},
   "source": [
    "<img src = \"https://cdn.programiz.com/sites/tutorial2program/files/unbalanced-binary-tree.png\">"
   ]
  },
  {
   "cell_type": "code",
   "execution_count": 49,
   "id": "de94c24f-c810-4a1f-9bf5-47bad4919ec4",
   "metadata": {},
   "outputs": [
    {
     "name": "stdout",
     "output_type": "stream",
     "text": [
      "Binary tree : \n",
      "    __1\n",
      "   /   \\\n",
      "  2     3\n",
      " / \\\n",
      "4   5\n",
      "\n",
      "The tree is balanced\n",
      "------------------------\n",
      "Binary tree : \n",
      "    ____1\n",
      "   /     \\\n",
      "  2__     3\n",
      " /   \\\n",
      "4     5\n",
      "     /\n",
      "    6\n",
      "\n",
      "The tree is not balanced\n"
     ]
    }
   ],
   "source": [
    "# Draw binary tree\n",
    "from binarytree import Node\n",
    "\n",
    "# Checking if a binary tree is height balanced in Python\n",
    "class build_Node:\n",
    "    def __init__(self, data):\n",
    "        self.data = data\n",
    "        self.left = None\n",
    "        self.right = None\n",
    "\n",
    "class Height:\n",
    "    def __init__(self):\n",
    "        self.height = 0\n",
    "\n",
    "def isHeightBalanced(root, height):\n",
    "    left_height = Height()\n",
    "    right_height = Height()\n",
    "\n",
    "    if root is None:\n",
    "        return True\n",
    "\n",
    "    l = isHeightBalanced(root.left, left_height)\n",
    "    r = isHeightBalanced(root.right, right_height)\n",
    "\n",
    "    height.height = max(left_height.height, right_height.height) + 1\n",
    "\n",
    "    if abs(left_height.height - right_height.height) <= 1:\n",
    "        return l and r\n",
    "\n",
    "    return False\n",
    "\n",
    "height = Height()\n",
    "\n",
    "# Print True/False\n",
    "def print_TF(root):\n",
    "    if isHeightBalanced(root, height):\n",
    "        print(\"The tree is balanced\")\n",
    "    else:\n",
    "        print(\"The tree is not balanced\")\n",
    "\n",
    "# Draw binary tree\n",
    "root            = Node(1)\n",
    "root.left       = Node(2)\n",
    "root.right      = Node(3)\n",
    "root.left.left  = Node(4)\n",
    "root.left.right = Node(5)\n",
    "\n",
    "print('Binary tree :', root)\n",
    "\n",
    "root            = build_Node(1)\n",
    "root.left       = build_Node(2)\n",
    "root.right      = build_Node(3)\n",
    "root.left.left  = build_Node(4)\n",
    "root.left.right = build_Node(5)\n",
    "\n",
    "print_TF(root)\n",
    "\n",
    "print(\"------------------------\")\n",
    "\n",
    "# Draw binary tree\n",
    "root                 = Node(1)\n",
    "root.left            = Node(2)\n",
    "root.right           = Node(3)\n",
    "root.left.left       = Node(4)\n",
    "root.left.right      = Node(5)\n",
    "root.left.right.left = Node(6)\n",
    "\n",
    "print('Binary tree :', root)\n",
    "\n",
    "root                 = build_Node(1)\n",
    "root.left            = build_Node(2)\n",
    "root.right           = build_Node(3)\n",
    "root.left.left       = build_Node(4)\n",
    "root.left.right      = build_Node(5)\n",
    "root.left.right.left = build_Node(6)\n",
    "\n",
    "print_TF(root)"
   ]
  },
  {
   "cell_type": "markdown",
   "id": "5dd389bd-6303-475f-89f7-13f309fad4f5",
   "metadata": {},
   "source": [
    "## I. Binary Tree Traversals:"
   ]
  },
  {
   "cell_type": "markdown",
   "id": "34a6e870-501b-4712-8384-141c7473f288",
   "metadata": {},
   "source": [
    "Tree Traversal algorithms can be classified broadly into two categories:\n",
    "\n",
    "+ Depth-First Search (DFS) Algorithms\n",
    "+ Breadth-First Search (BFS) Algorithms\n",
    "\n",
    "<b>Tree Traversal using Depth-First Search (DFS) algorithm can be further classified into three categories:</b>\n",
    "+ <b>Preorder Traversal (current-left-right)</b>: Visit the current node before visiting any nodes inside the left or right subtrees. Here, the traversal is root – left child – right child. It means that the root node is traversed first then its left child and finally the right child.\n",
    "+ <b>Inorder Traversal (left-current-right)</b>: Visit the current node after visiting all nodes inside the left subtree but before visiting any node within the right subtree. Here, the traversal is left child – root – right child.  It means that the left child is traversed first then its root node and finally the right child.\n",
    "+ <b>Postorder Traversal (left-right-current)</b>: Visit the current node after visiting all the nodes of the left and right subtrees.  Here, the traversal is left child – right child – root.  It means that the left child has traversed first then the right child and finally its root node.\n",
    "\n",
    "<b>Tree Traversal using Breadth-First Search (BFS) algorithm can be further classified into one category:</b>\n",
    "+ <b>Level Order Traversal</b>:  Visit nodes level-by-level and left-to-right fashion at the same level. Here, the traversal is level-wise. It means that the most left child has traversed first and then the other children of the same level from left to right have traversed. \n",
    "\n",
    "Let us traverse the following tree with all four traversal methods:"
   ]
  },
  {
   "cell_type": "markdown",
   "id": "56c334d1-1524-4f43-889e-a241357010d7",
   "metadata": {},
   "source": [
    "<img src = \"https://media.geeksforgeeks.org/wp-content/uploads/20221125145811/level.png\">"
   ]
  },
  {
   "cell_type": "markdown",
   "id": "0a2d5bdf-0846-4bb6-bd11-e476c260f388",
   "metadata": {},
   "source": [
    "<b>Pre-order Traversal of the above tree</b>: 1 - 2 - 4 - 5 - 3 - 6 - 7\n",
    "\n",
    "<b>In-order Traversal of the above tree</b>: 4 - 2 - 5 - 1 - 6 - 3 - 7\n",
    "\n",
    "<b>Post-order Traversal of the above tree</b>: 4 - 5 - 2 - 6 - 7 - 3 - 1\n",
    "\n",
    "<b>Level-order Traversal of the above tree</b>: 1 - 2 - 3 - 4 - 5 - 6 - 7"
   ]
  },
  {
   "cell_type": "markdown",
   "id": "971f1605-24e5-4a3f-84d7-7a2c4e93aaaa",
   "metadata": {},
   "source": [
    "## J. Implementation of Binary Tree:"
   ]
  },
  {
   "cell_type": "markdown",
   "id": "b542ae4d-3e8c-4ab4-853b-abb24871067c",
   "metadata": {},
   "source": [
    "Let us create a simple tree with 4 nodes. The created tree would be as follows.\n",
    "\n",
    "<img src = \"https://media.geeksforgeeks.org/wp-content/uploads/20221125150058/root.png\">"
   ]
  },
  {
   "cell_type": "markdown",
   "id": "1c9cb81e-4396-43d3-88d9-56b1be30a301",
   "metadata": {},
   "source": [
    "Below is the Implementation of the binary tree:"
   ]
  },
  {
   "cell_type": "code",
   "execution_count": null,
   "id": "6db0c370-6d56-4d69-b7a3-8d0567c76527",
   "metadata": {},
   "outputs": [],
   "source": [
    "class Node:\n",
    "    def __init__(self, key):\n",
    "        self.left = None\n",
    "          self.right = None\n",
    "          self.val = key\n",
    " \n",
    "if __name__ == '__main__':\n",
    "    # Create root\n",
    "    root = Node(1)\n",
    "    ''' following is the tree after above statement\n",
    "    1\n",
    "    / \\\n",
    "    None None'''\n",
    "root.left = Node(2)\n",
    "root.right = Node(3)\n",
    " \n",
    "''' 2 and 3 become left and right children of 1\n",
    "1\n",
    "/ \\\n",
    "2 3\n",
    "/ \\ / \\\n",
    "None None None None'''\n",
    " \n",
    "root.left.left = Node(4)\n",
    "'''4 becomes left child of 2\n",
    "1\n",
    "/ \\\n",
    "2 3\n",
    "/ \\ / \\\n",
    "4 None None None\n",
    "/ \\\n",
    "None None'''"
   ]
  }
 ],
 "metadata": {
  "kernelspec": {
   "display_name": "Python 3 (ipykernel)",
   "language": "python",
   "name": "python3"
  },
  "language_info": {
   "codemirror_mode": {
    "name": "ipython",
    "version": 3
   },
   "file_extension": ".py",
   "mimetype": "text/x-python",
   "name": "python",
   "nbconvert_exporter": "python",
   "pygments_lexer": "ipython3",
   "version": "3.9.13"
  }
 },
 "nbformat": 4,
 "nbformat_minor": 5
}
